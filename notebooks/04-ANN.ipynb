{
 "cells": [
  {
   "cell_type": "code",
   "execution_count": 1,
   "metadata": {},
   "outputs": [],
   "source": [
    "import numpy as np\n",
    "# Load the \"autoreload\" extension so that code can change\n",
    "%load_ext autoreload\n",
    "\n",
    "#always reload modules so that as you change code in src, it gets loaded\n",
    "%autoreload 2\n",
    "\n",
    "from src.data import make_dataset"
   ]
  },
  {
   "cell_type": "code",
   "execution_count": 2,
   "metadata": {},
   "outputs": [],
   "source": [
    "path = \"/Users/jbaripatti/machine_learning_proj/data/interim/\"\n",
    "name = 'data_interim.txt'\n",
    "filepath = path + name\n",
    "data = np.loadtxt(filepath, delimiter=\",\")\n",
    "X_train, y_train, X_test, y_test = make_dataset.split_data(data)"
   ]
  },
  {
   "cell_type": "code",
   "execution_count": 3,
   "metadata": {},
   "outputs": [
    {
     "name": "stderr",
     "output_type": "stream",
     "text": [
      "Using TensorFlow backend.\n"
     ]
    }
   ],
   "source": [
    "import tensorflow as tf\n",
    "from keras.callbacks import EarlyStopping\n",
    "from keras.layers import Dense, Dropout\n",
    "from keras import regularizers\n",
    "from keras.models import Sequential"
   ]
  },
  {
   "cell_type": "code",
   "execution_count": 18,
   "metadata": {},
   "outputs": [],
   "source": [
    "X_train, X_test = make_dataset.scale_data(X_train, X_test)"
   ]
  },
  {
   "cell_type": "markdown",
   "metadata": {},
   "source": [
    "### We have 50 input features and one target variable. \n",
    "### 2 Hidden layers. Each hidden layer will have 25 nodes.\n",
    "\n",
    "ReLu will be the activation function for hidden layers. As this is a binary classification problem we will use sigmoid as the activation function."
   ]
  },
  {
   "cell_type": "code",
   "execution_count": 19,
   "metadata": {},
   "outputs": [],
   "source": [
    "classifier = Sequential()\n",
    "#First Hidden Layer\n",
    "classifier.add(Dense(25, activation='relu', kernel_initializer='random_normal', input_dim=50))\n",
    "#Second  Hidden Layer\n",
    "classifier.add(Dense(25, activation='relu', kernel_initializer='random_normal'))\n",
    "#Output Layer\n",
    "classifier.add(Dense(1, activation='sigmoid', kernel_initializer='random_normal'))"
   ]
  },
  {
   "cell_type": "code",
   "execution_count": 20,
   "metadata": {},
   "outputs": [],
   "source": [
    "#Compiling the neural network\n",
    "classifier.compile(optimizer ='adam',loss='binary_crossentropy', metrics =['accuracy'])"
   ]
  },
  {
   "cell_type": "code",
   "execution_count": 21,
   "metadata": {},
   "outputs": [
    {
     "name": "stdout",
     "output_type": "stream",
     "text": [
      "Epoch 1/100\n",
      "104051/104051 [==============================] - 11s 103us/step - loss: 0.2337 - acc: 0.9084\n",
      "Epoch 2/100\n",
      "104051/104051 [==============================] - 10s 96us/step - loss: 0.1823 - acc: 0.9254\n",
      "Epoch 3/100\n",
      "104051/104051 [==============================] - 10s 97us/step - loss: 0.1731 - acc: 0.9298\n",
      "Epoch 4/100\n",
      "104051/104051 [==============================] - 11s 103us/step - loss: 0.1687 - acc: 0.9311\n",
      "Epoch 5/100\n",
      "104051/104051 [==============================] - 10s 98us/step - loss: 0.1655 - acc: 0.9327 0s - loss: 0.1654 - ac\n",
      "Epoch 6/100\n",
      "104051/104051 [==============================] - 10s 99us/step - loss: 0.1626 - acc: 0.9341 0s - loss: 0.1624 -\n",
      "Epoch 7/100\n",
      "104051/104051 [==============================] - 11s 101us/step - loss: 0.1774 - acc: 0.9352\n",
      "Epoch 8/100\n",
      "104051/104051 [==============================] - 10s 97us/step - loss: 0.2133 - acc: 0.9331\n",
      "Epoch 9/100\n",
      "104051/104051 [==============================] - 11s 101us/step - loss: 0.2118 - acc: 0.9338\n",
      "Epoch 10/100\n",
      "104051/104051 [==============================] - 10s 98us/step - loss: 0.2107 - acc: 0.9340\n",
      "Epoch 11/100\n",
      "104051/104051 [==============================] - 10s 100us/step - loss: 0.2093 - acc: 0.9344\n",
      "Epoch 12/100\n",
      "104051/104051 [==============================] - 10s 97us/step - loss: 0.2081 - acc: 0.9351\n",
      "Epoch 13/100\n",
      "104051/104051 [==============================] - 10s 97us/step - loss: 0.2006 - acc: 0.9362\n",
      "Epoch 14/100\n",
      "104051/104051 [==============================] - 10s 95us/step - loss: 0.1517 - acc: 0.9400\n",
      "Epoch 15/100\n",
      "104051/104051 [==============================] - 10s 95us/step - loss: 0.1513 - acc: 0.9398\n",
      "Epoch 16/100\n",
      "104051/104051 [==============================] - 11s 102us/step - loss: 0.1503 - acc: 0.9408\n",
      "Epoch 17/100\n",
      "104051/104051 [==============================] - 10s 96us/step - loss: 0.1499 - acc: 0.9409\n",
      "Epoch 18/100\n",
      "104051/104051 [==============================] - 9s 90us/step - loss: 0.1492 - acc: 0.9407\n",
      "Epoch 19/100\n",
      "104051/104051 [==============================] - 9s 90us/step - loss: 0.1486 - acc: 0.9406\n",
      "Epoch 20/100\n",
      "104051/104051 [==============================] - 9s 89us/step - loss: 0.1765 - acc: 0.9394\n",
      "Epoch 21/100\n",
      "104051/104051 [==============================] - 9s 89us/step - loss: 0.2023 - acc: 0.9381: 0s - loss: 0.2021 - acc: 0.9\n",
      "Epoch 22/100\n",
      "104051/104051 [==============================] - 9s 89us/step - loss: 0.2019 - acc: 0.9383\n",
      "Epoch 23/100\n",
      "104051/104051 [==============================] - 9s 90us/step - loss: 0.2015 - acc: 0.9386\n",
      "Epoch 24/100\n",
      "104051/104051 [==============================] - 9s 89us/step - loss: 0.1480 - acc: 0.9419\n",
      "Epoch 25/100\n",
      "104051/104051 [==============================] - 9s 89us/step - loss: 0.1456 - acc: 0.9417\n",
      "Epoch 26/100\n",
      "104051/104051 [==============================] - 9s 89us/step - loss: 0.1453 - acc: 0.9424\n",
      "Epoch 27/100\n",
      "104051/104051 [==============================] - 9s 89us/step - loss: 0.1450 - acc: 0.9426\n",
      "Epoch 28/100\n",
      "104051/104051 [==============================] - 9s 89us/step - loss: 0.1446 - acc: 0.9425\n",
      "Epoch 29/100\n",
      "104051/104051 [==============================] - 9s 89us/step - loss: 0.1443 - acc: 0.9428: 1s \n",
      "Epoch 30/100\n",
      "104051/104051 [==============================] - 9s 89us/step - loss: 0.1442 - acc: 0.9427\n",
      "Epoch 31/100\n",
      "104051/104051 [==============================] - 9s 90us/step - loss: 0.1436 - acc: 0.9431: 0s - loss: 0.1431 - acc\n",
      "Epoch 32/100\n",
      "104051/104051 [==============================] - 10s 91us/step - loss: 0.1774 - acc: 0.9413 1s - loss\n",
      "Epoch 33/100\n",
      "104051/104051 [==============================] - 9s 90us/step - loss: 0.1980 - acc: 0.9399\n",
      "Epoch 34/100\n",
      "104051/104051 [==============================] - 9s 89us/step - loss: 0.1972 - acc: 0.9404: 1s - lo\n",
      "Epoch 35/100\n",
      "104051/104051 [==============================] - 9s 89us/step - loss: 0.1972 - acc: 0.9401\n",
      "Epoch 36/100\n",
      "104051/104051 [==============================] - 9s 89us/step - loss: 0.1714 - acc: 0.9417\n",
      "Epoch 37/100\n",
      "104051/104051 [==============================] - 9s 89us/step - loss: 0.1418 - acc: 0.9440\n",
      "Epoch 38/100\n",
      "104051/104051 [==============================] - 9s 89us/step - loss: 0.1415 - acc: 0.9439\n",
      "Epoch 39/100\n",
      "104051/104051 [==============================] - 10s 92us/step - loss: 0.1409 - acc: 0.9445\n",
      "Epoch 40/100\n",
      "104051/104051 [==============================] - 10s 92us/step - loss: 0.1412 - acc: 0.9443\n",
      "Epoch 41/100\n",
      "104051/104051 [==============================] - 9s 90us/step - loss: 0.1408 - acc: 0.9442\n",
      "Epoch 42/100\n",
      "104051/104051 [==============================] - 10s 97us/step - loss: 0.1405 - acc: 0.9445\n",
      "Epoch 43/100\n",
      "104051/104051 [==============================] - 10s 101us/step - loss: 0.1400 - acc: 0.9448\n",
      "Epoch 44/100\n",
      "104051/104051 [==============================] - 10s 94us/step - loss: 0.1398 - acc: 0.9449\n",
      "Epoch 45/100\n",
      "104051/104051 [==============================] - 10s 98us/step - loss: 0.1396 - acc: 0.9443\n",
      "Epoch 46/100\n",
      "104051/104051 [==============================] - 10s 94us/step - loss: 0.1394 - acc: 0.9449\n",
      "Epoch 47/100\n",
      "104051/104051 [==============================] - 10s 94us/step - loss: 0.1394 - acc: 0.9447\n",
      "Epoch 48/100\n",
      "104051/104051 [==============================] - 9s 90us/step - loss: 0.1392 - acc: 0.9442\n",
      "Epoch 49/100\n",
      "104051/104051 [==============================] - 9s 90us/step - loss: 0.1392 - acc: 0.9451\n",
      "Epoch 50/100\n",
      "104051/104051 [==============================] - 9s 91us/step - loss: 0.1388 - acc: 0.9449\n",
      "Epoch 51/100\n",
      "104051/104051 [==============================] - 9s 90us/step - loss: 0.1382 - acc: 0.9454\n",
      "Epoch 52/100\n",
      "104051/104051 [==============================] - 9s 89us/step - loss: 0.1386 - acc: 0.9451\n",
      "Epoch 53/100\n",
      "104051/104051 [==============================] - 9s 90us/step - loss: 0.1381 - acc: 0.9460: 0s - loss: 0.1379 \n",
      "Epoch 54/100\n",
      "104051/104051 [==============================] - 9s 90us/step - loss: 0.1383 - acc: 0.9454\n",
      "Epoch 55/100\n",
      "104051/104051 [==============================] - 9s 90us/step - loss: 0.1377 - acc: 0.9464\n",
      "Epoch 56/100\n",
      "104051/104051 [==============================] - 9s 89us/step - loss: 0.1380 - acc: 0.9456\n",
      "Epoch 57/100\n",
      "104051/104051 [==============================] - 9s 91us/step - loss: 0.1376 - acc: 0.9462\n",
      "Epoch 58/100\n",
      "104051/104051 [==============================] - 10s 91us/step - loss: 0.1375 - acc: 0.9458\n",
      "Epoch 59/100\n",
      "104051/104051 [==============================] - 9s 89us/step - loss: 0.1374 - acc: 0.9457\n",
      "Epoch 60/100\n",
      "104051/104051 [==============================] - 9s 91us/step - loss: 0.1367 - acc: 0.9458\n",
      "Epoch 61/100\n",
      "104051/104051 [==============================] - 9s 89us/step - loss: 0.1368 - acc: 0.9460\n",
      "Epoch 62/100\n",
      "104051/104051 [==============================] - 9s 89us/step - loss: 0.1366 - acc: 0.9461\n",
      "Epoch 63/100\n",
      "104051/104051 [==============================] - 9s 90us/step - loss: 0.1370 - acc: 0.9459\n",
      "Epoch 64/100\n",
      "104051/104051 [==============================] - 9s 89us/step - loss: 0.1360 - acc: 0.9464\n",
      "Epoch 65/100\n",
      "104051/104051 [==============================] - 9s 89us/step - loss: 0.1361 - acc: 0.9465\n",
      "Epoch 66/100\n",
      "104051/104051 [==============================] - 9s 89us/step - loss: 0.1362 - acc: 0.9462:\n",
      "Epoch 67/100\n",
      "104051/104051 [==============================] - 9s 89us/step - loss: 0.1358 - acc: 0.9468\n",
      "Epoch 68/100\n",
      "104051/104051 [==============================] - 9s 91us/step - loss: 0.1359 - acc: 0.9460\n",
      "Epoch 69/100\n",
      "104051/104051 [==============================] - 9s 91us/step - loss: 0.1357 - acc: 0.9466\n",
      "Epoch 70/100\n",
      "104051/104051 [==============================] - 9s 90us/step - loss: 0.1355 - acc: 0.9467\n",
      "Epoch 71/100\n",
      "104051/104051 [==============================] - 9s 88us/step - loss: 0.1352 - acc: 0.9464\n",
      "Epoch 72/100\n",
      "104051/104051 [==============================] - 9s 89us/step - loss: 0.1354 - acc: 0.9464\n",
      "Epoch 73/100\n",
      "104051/104051 [==============================] - 9s 90us/step - loss: 0.1348 - acc: 0.9473\n",
      "Epoch 74/100\n",
      "104051/104051 [==============================] - 9s 89us/step - loss: 0.1350 - acc: 0.9472\n",
      "Epoch 75/100\n",
      "104051/104051 [==============================] - 9s 89us/step - loss: 0.1351 - acc: 0.9464\n",
      "Epoch 76/100\n",
      "104051/104051 [==============================] - 9s 89us/step - loss: 0.1347 - acc: 0.9470\n",
      "Epoch 77/100\n"
     ]
    },
    {
     "name": "stdout",
     "output_type": "stream",
     "text": [
      "104051/104051 [==============================] - 9s 90us/step - loss: 0.1344 - acc: 0.9471\n",
      "Epoch 78/100\n",
      "104051/104051 [==============================] - 9s 89us/step - loss: 0.1343 - acc: 0.9474\n",
      "Epoch 79/100\n",
      "104051/104051 [==============================] - 9s 89us/step - loss: 0.1340 - acc: 0.9472\n",
      "Epoch 80/100\n",
      "104051/104051 [==============================] - 9s 90us/step - loss: 0.1343 - acc: 0.9470\n",
      "Epoch 81/100\n",
      "104051/104051 [==============================] - 9s 89us/step - loss: 0.1342 - acc: 0.9470\n",
      "Epoch 82/100\n",
      "104051/104051 [==============================] - 10s 94us/step - loss: 0.1338 - acc: 0.9471\n",
      "Epoch 83/100\n",
      "104051/104051 [==============================] - 9s 90us/step - loss: 0.1339 - acc: 0.9477\n",
      "Epoch 84/100\n",
      "104051/104051 [==============================] - 9s 89us/step - loss: 0.1334 - acc: 0.9475: \n",
      "Epoch 85/100\n",
      "104051/104051 [==============================] - 9s 89us/step - loss: 0.1330 - acc: 0.9480\n",
      "Epoch 86/100\n",
      "104051/104051 [==============================] - 9s 89us/step - loss: 0.1333 - acc: 0.9476\n",
      "Epoch 87/100\n",
      "104051/104051 [==============================] - 9s 90us/step - loss: 0.1333 - acc: 0.9472: 0s - loss: 0.1334 - acc: 0.947\n",
      "Epoch 88/100\n",
      "104051/104051 [==============================] - 10s 93us/step - loss: 0.1334 - acc: 0.9481\n",
      "Epoch 89/100\n",
      "104051/104051 [==============================] - 10s 101us/step - loss: 0.1332 - acc: 0.9474\n",
      "Epoch 90/100\n",
      "104051/104051 [==============================] - 10s 98us/step - loss: 0.1329 - acc: 0.9476\n",
      "Epoch 91/100\n",
      "104051/104051 [==============================] - 9s 91us/step - loss: 0.1327 - acc: 0.9472\n",
      "Epoch 92/100\n",
      "104051/104051 [==============================] - 9s 90us/step - loss: 0.1329 - acc: 0.9482\n",
      "Epoch 93/100\n",
      "104051/104051 [==============================] - 9s 90us/step - loss: 0.1330 - acc: 0.9482\n",
      "Epoch 94/100\n",
      "104051/104051 [==============================] - 10s 93us/step - loss: 0.1322 - acc: 0.9481\n",
      "Epoch 95/100\n",
      "104051/104051 [==============================] - 10s 97us/step - loss: 0.1326 - acc: 0.9477\n",
      "Epoch 96/100\n",
      "104051/104051 [==============================] - 11s 105us/step - loss: 0.1319 - acc: 0.9480A: 0s - loss: 0.1321 \n",
      "Epoch 97/100\n",
      "104051/104051 [==============================] - 10s 96us/step - loss: 0.1322 - acc: 0.9477\n",
      "Epoch 98/100\n",
      "104051/104051 [==============================] - 9s 91us/step - loss: 0.1323 - acc: 0.9475\n",
      "Epoch 99/100\n",
      "104051/104051 [==============================] - 10s 93us/step - loss: 0.1321 - acc: 0.9481\n",
      "Epoch 100/100\n",
      "104051/104051 [==============================] - 10s 92us/step - loss: 0.1320 - acc: 0.9483\n"
     ]
    },
    {
     "data": {
      "text/plain": [
       "<keras.callbacks.History at 0x1a3d82e2e8>"
      ]
     },
     "execution_count": 21,
     "metadata": {},
     "output_type": "execute_result"
    }
   ],
   "source": [
    "#Fitting the data to the training dataset\n",
    "classifier.fit(X_train,y_train, batch_size=10, epochs=100)"
   ]
  },
  {
   "cell_type": "code",
   "execution_count": 22,
   "metadata": {},
   "outputs": [
    {
     "name": "stdout",
     "output_type": "stream",
     "text": [
      "104051/104051 [==============================] - 1s 11us/step\n"
     ]
    },
    {
     "data": {
      "text/plain": [
       "[0.12995500298622456, 0.948717455860126]"
      ]
     },
     "execution_count": 22,
     "metadata": {},
     "output_type": "execute_result"
    }
   ],
   "source": [
    "eval_model=classifier.evaluate(X_train, y_train)\n",
    "eval_model"
   ]
  },
  {
   "cell_type": "code",
   "execution_count": 23,
   "metadata": {},
   "outputs": [],
   "source": [
    "y_pred=classifier.predict(X_test)\n",
    "y_pred =(y_pred>0.5)"
   ]
  },
  {
   "cell_type": "code",
   "execution_count": 24,
   "metadata": {},
   "outputs": [
    {
     "name": "stdout",
     "output_type": "stream",
     "text": [
      "[[18658     0]\n",
      " [ 7355     0]]\n"
     ]
    }
   ],
   "source": [
    "from sklearn.metrics import confusion_matrix\n",
    "cm = confusion_matrix(y_test, y_pred)\n",
    "print(cm)"
   ]
  },
  {
   "cell_type": "code",
   "execution_count": 25,
   "metadata": {},
   "outputs": [
    {
     "data": {
      "text/plain": [
       "0.717256756237266"
      ]
     },
     "execution_count": 25,
     "metadata": {},
     "output_type": "execute_result"
    }
   ],
   "source": [
    "from sklearn.metrics import accuracy_score\n",
    "\n",
    "accuracy_score(y_test, y_pred)"
   ]
  },
  {
   "cell_type": "markdown",
   "metadata": {},
   "source": [
    "## Grid Search Hyperparameters"
   ]
  },
  {
   "cell_type": "code",
   "execution_count": null,
   "metadata": {},
   "outputs": [],
   "source": []
  },
  {
   "cell_type": "code",
   "execution_count": null,
   "metadata": {},
   "outputs": [],
   "source": []
  }
 ],
 "metadata": {
  "kernelspec": {
   "display_name": "Python 3",
   "language": "python",
   "name": "python3"
  },
  "language_info": {
   "codemirror_mode": {
    "name": "ipython",
    "version": 3
   },
   "file_extension": ".py",
   "mimetype": "text/x-python",
   "name": "python",
   "nbconvert_exporter": "python",
   "pygments_lexer": "ipython3",
   "version": "3.7.3"
  }
 },
 "nbformat": 4,
 "nbformat_minor": 2
}

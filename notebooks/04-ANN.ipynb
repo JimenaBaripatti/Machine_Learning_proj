{
 "cells": [
  {
   "cell_type": "code",
   "execution_count": 1,
   "metadata": {},
   "outputs": [],
   "source": [
    "import numpy as np\n",
    "# Load the \"autoreload\" extension so that code can change\n",
    "%load_ext autoreload\n",
    "\n",
    "#always reload modules so that as you change code in src, it gets loaded\n",
    "%autoreload 2\n",
    "\n",
    "from src.data import make_dataset"
   ]
  },
  {
   "cell_type": "code",
   "execution_count": 2,
   "metadata": {},
   "outputs": [],
   "source": [
    "path = \"/Users/jbaripatti/machine_learning_proj/data/interim/\"\n",
    "name = 'data_interim.txt'\n",
    "filepath = path + name\n",
    "data = np.loadtxt(filepath, delimiter=\",\")\n",
    "X_train, y_train, X_test, y_test = make_dataset.split_data(data)"
   ]
  },
  {
   "cell_type": "code",
   "execution_count": 3,
   "metadata": {},
   "outputs": [
    {
     "name": "stderr",
     "output_type": "stream",
     "text": [
      "Using TensorFlow backend.\n"
     ]
    }
   ],
   "source": [
    "import tensorflow as tf\n",
    "from keras.callbacks import EarlyStopping\n",
    "from keras.layers import Dense, Dropout\n",
    "from keras import regularizers\n",
    "from keras.models import Sequential"
   ]
  },
  {
   "cell_type": "code",
   "execution_count": 26,
   "metadata": {},
   "outputs": [],
   "source": [
    "np.random.seed(123)"
   ]
  },
  {
   "cell_type": "code",
   "execution_count": 18,
   "metadata": {},
   "outputs": [],
   "source": [
    "X_train, X_test = make_dataset.scale_data(X_train, X_test)"
   ]
  },
  {
   "cell_type": "markdown",
   "metadata": {},
   "source": [
    "### We have 50 input features and one target variable. \n",
    "### 2 Hidden layers. Each hidden layer will have 25 nodes.\n",
    "\n",
    "ReLu will be the activation function for hidden layers. As this is a binary classification problem we will use sigmoid as the activation function."
   ]
  },
  {
   "cell_type": "code",
   "execution_count": 19,
   "metadata": {},
   "outputs": [],
   "source": [
    "classifier = Sequential()\n",
    "#First Hidden Layer\n",
    "classifier.add(Dense(25, activation='relu', kernel_initializer='random_normal', input_dim=50))\n",
    "#Second  Hidden Layer\n",
    "classifier.add(Dense(25, activation='relu', kernel_initializer='random_normal'))\n",
    "#Output Layer\n",
    "classifier.add(Dense(1, activation='sigmoid', kernel_initializer='random_normal'))"
   ]
  },
  {
   "cell_type": "code",
   "execution_count": 20,
   "metadata": {},
   "outputs": [],
   "source": [
    "#Compiling the neural network\n",
    "classifier.compile(optimizer ='adam',loss='binary_crossentropy', metrics =['accuracy'])"
   ]
  },
  {
   "cell_type": "code",
   "execution_count": 21,
   "metadata": {},
   "outputs": [
    {
     "name": "stdout",
     "output_type": "stream",
     "text": [
      "Epoch 1/100\n",
      "104051/104051 [==============================] - 11s 103us/step - loss: 0.2337 - acc: 0.9084\n",
      "Epoch 2/100\n",
      "104051/104051 [==============================] - 10s 96us/step - loss: 0.1823 - acc: 0.9254\n",
      "Epoch 3/100\n",
      "104051/104051 [==============================] - 10s 97us/step - loss: 0.1731 - acc: 0.9298\n",
      "Epoch 4/100\n",
      "104051/104051 [==============================] - 11s 103us/step - loss: 0.1687 - acc: 0.9311\n",
      "Epoch 5/100\n",
      "104051/104051 [==============================] - 10s 98us/step - loss: 0.1655 - acc: 0.9327 0s - loss: 0.1654 - ac\n",
      "Epoch 6/100\n",
      "104051/104051 [==============================] - 10s 99us/step - loss: 0.1626 - acc: 0.9341 0s - loss: 0.1624 -\n",
      "Epoch 7/100\n",
      "104051/104051 [==============================] - 11s 101us/step - loss: 0.1774 - acc: 0.9352\n",
      "Epoch 8/100\n",
      "104051/104051 [==============================] - 10s 97us/step - loss: 0.2133 - acc: 0.9331\n",
      "Epoch 9/100\n",
      "104051/104051 [==============================] - 11s 101us/step - loss: 0.2118 - acc: 0.9338\n",
      "Epoch 10/100\n",
      "104051/104051 [==============================] - 10s 98us/step - loss: 0.2107 - acc: 0.9340\n",
      "Epoch 11/100\n",
      "104051/104051 [==============================] - 10s 100us/step - loss: 0.2093 - acc: 0.9344\n",
      "Epoch 12/100\n",
      "104051/104051 [==============================] - 10s 97us/step - loss: 0.2081 - acc: 0.9351\n",
      "Epoch 13/100\n",
      "104051/104051 [==============================] - 10s 97us/step - loss: 0.2006 - acc: 0.9362\n",
      "Epoch 14/100\n",
      "104051/104051 [==============================] - 10s 95us/step - loss: 0.1517 - acc: 0.9400\n",
      "Epoch 15/100\n",
      "104051/104051 [==============================] - 10s 95us/step - loss: 0.1513 - acc: 0.9398\n",
      "Epoch 16/100\n",
      "104051/104051 [==============================] - 11s 102us/step - loss: 0.1503 - acc: 0.9408\n",
      "Epoch 17/100\n",
      "104051/104051 [==============================] - 10s 96us/step - loss: 0.1499 - acc: 0.9409\n",
      "Epoch 18/100\n",
      "104051/104051 [==============================] - 9s 90us/step - loss: 0.1492 - acc: 0.9407\n",
      "Epoch 19/100\n",
      "104051/104051 [==============================] - 9s 90us/step - loss: 0.1486 - acc: 0.9406\n",
      "Epoch 20/100\n",
      "104051/104051 [==============================] - 9s 89us/step - loss: 0.1765 - acc: 0.9394\n",
      "Epoch 21/100\n",
      "104051/104051 [==============================] - 9s 89us/step - loss: 0.2023 - acc: 0.9381: 0s - loss: 0.2021 - acc: 0.9\n",
      "Epoch 22/100\n",
      "104051/104051 [==============================] - 9s 89us/step - loss: 0.2019 - acc: 0.9383\n",
      "Epoch 23/100\n",
      "104051/104051 [==============================] - 9s 90us/step - loss: 0.2015 - acc: 0.9386\n",
      "Epoch 24/100\n",
      "104051/104051 [==============================] - 9s 89us/step - loss: 0.1480 - acc: 0.9419\n",
      "Epoch 25/100\n",
      "104051/104051 [==============================] - 9s 89us/step - loss: 0.1456 - acc: 0.9417\n",
      "Epoch 26/100\n",
      "104051/104051 [==============================] - 9s 89us/step - loss: 0.1453 - acc: 0.9424\n",
      "Epoch 27/100\n",
      "104051/104051 [==============================] - 9s 89us/step - loss: 0.1450 - acc: 0.9426\n",
      "Epoch 28/100\n",
      "104051/104051 [==============================] - 9s 89us/step - loss: 0.1446 - acc: 0.9425\n",
      "Epoch 29/100\n",
      "104051/104051 [==============================] - 9s 89us/step - loss: 0.1443 - acc: 0.9428: 1s \n",
      "Epoch 30/100\n",
      "104051/104051 [==============================] - 9s 89us/step - loss: 0.1442 - acc: 0.9427\n",
      "Epoch 31/100\n",
      "104051/104051 [==============================] - 9s 90us/step - loss: 0.1436 - acc: 0.9431: 0s - loss: 0.1431 - acc\n",
      "Epoch 32/100\n",
      "104051/104051 [==============================] - 10s 91us/step - loss: 0.1774 - acc: 0.9413 1s - loss\n",
      "Epoch 33/100\n",
      "104051/104051 [==============================] - 9s 90us/step - loss: 0.1980 - acc: 0.9399\n",
      "Epoch 34/100\n",
      "104051/104051 [==============================] - 9s 89us/step - loss: 0.1972 - acc: 0.9404: 1s - lo\n",
      "Epoch 35/100\n",
      "104051/104051 [==============================] - 9s 89us/step - loss: 0.1972 - acc: 0.9401\n",
      "Epoch 36/100\n",
      "104051/104051 [==============================] - 9s 89us/step - loss: 0.1714 - acc: 0.9417\n",
      "Epoch 37/100\n",
      "104051/104051 [==============================] - 9s 89us/step - loss: 0.1418 - acc: 0.9440\n",
      "Epoch 38/100\n",
      "104051/104051 [==============================] - 9s 89us/step - loss: 0.1415 - acc: 0.9439\n",
      "Epoch 39/100\n",
      "104051/104051 [==============================] - 10s 92us/step - loss: 0.1409 - acc: 0.9445\n",
      "Epoch 40/100\n",
      "104051/104051 [==============================] - 10s 92us/step - loss: 0.1412 - acc: 0.9443\n",
      "Epoch 41/100\n",
      "104051/104051 [==============================] - 9s 90us/step - loss: 0.1408 - acc: 0.9442\n",
      "Epoch 42/100\n",
      "104051/104051 [==============================] - 10s 97us/step - loss: 0.1405 - acc: 0.9445\n",
      "Epoch 43/100\n",
      "104051/104051 [==============================] - 10s 101us/step - loss: 0.1400 - acc: 0.9448\n",
      "Epoch 44/100\n",
      "104051/104051 [==============================] - 10s 94us/step - loss: 0.1398 - acc: 0.9449\n",
      "Epoch 45/100\n",
      "104051/104051 [==============================] - 10s 98us/step - loss: 0.1396 - acc: 0.9443\n",
      "Epoch 46/100\n",
      "104051/104051 [==============================] - 10s 94us/step - loss: 0.1394 - acc: 0.9449\n",
      "Epoch 47/100\n",
      "104051/104051 [==============================] - 10s 94us/step - loss: 0.1394 - acc: 0.9447\n",
      "Epoch 48/100\n",
      "104051/104051 [==============================] - 9s 90us/step - loss: 0.1392 - acc: 0.9442\n",
      "Epoch 49/100\n",
      "104051/104051 [==============================] - 9s 90us/step - loss: 0.1392 - acc: 0.9451\n",
      "Epoch 50/100\n",
      "104051/104051 [==============================] - 9s 91us/step - loss: 0.1388 - acc: 0.9449\n",
      "Epoch 51/100\n",
      "104051/104051 [==============================] - 9s 90us/step - loss: 0.1382 - acc: 0.9454\n",
      "Epoch 52/100\n",
      "104051/104051 [==============================] - 9s 89us/step - loss: 0.1386 - acc: 0.9451\n",
      "Epoch 53/100\n",
      "104051/104051 [==============================] - 9s 90us/step - loss: 0.1381 - acc: 0.9460: 0s - loss: 0.1379 \n",
      "Epoch 54/100\n",
      "104051/104051 [==============================] - 9s 90us/step - loss: 0.1383 - acc: 0.9454\n",
      "Epoch 55/100\n",
      "104051/104051 [==============================] - 9s 90us/step - loss: 0.1377 - acc: 0.9464\n",
      "Epoch 56/100\n",
      "104051/104051 [==============================] - 9s 89us/step - loss: 0.1380 - acc: 0.9456\n",
      "Epoch 57/100\n",
      "104051/104051 [==============================] - 9s 91us/step - loss: 0.1376 - acc: 0.9462\n",
      "Epoch 58/100\n",
      "104051/104051 [==============================] - 10s 91us/step - loss: 0.1375 - acc: 0.9458\n",
      "Epoch 59/100\n",
      "104051/104051 [==============================] - 9s 89us/step - loss: 0.1374 - acc: 0.9457\n",
      "Epoch 60/100\n",
      "104051/104051 [==============================] - 9s 91us/step - loss: 0.1367 - acc: 0.9458\n",
      "Epoch 61/100\n",
      "104051/104051 [==============================] - 9s 89us/step - loss: 0.1368 - acc: 0.9460\n",
      "Epoch 62/100\n",
      "104051/104051 [==============================] - 9s 89us/step - loss: 0.1366 - acc: 0.9461\n",
      "Epoch 63/100\n",
      "104051/104051 [==============================] - 9s 90us/step - loss: 0.1370 - acc: 0.9459\n",
      "Epoch 64/100\n",
      "104051/104051 [==============================] - 9s 89us/step - loss: 0.1360 - acc: 0.9464\n",
      "Epoch 65/100\n",
      "104051/104051 [==============================] - 9s 89us/step - loss: 0.1361 - acc: 0.9465\n",
      "Epoch 66/100\n",
      "104051/104051 [==============================] - 9s 89us/step - loss: 0.1362 - acc: 0.9462:\n",
      "Epoch 67/100\n",
      "104051/104051 [==============================] - 9s 89us/step - loss: 0.1358 - acc: 0.9468\n",
      "Epoch 68/100\n",
      "104051/104051 [==============================] - 9s 91us/step - loss: 0.1359 - acc: 0.9460\n",
      "Epoch 69/100\n",
      "104051/104051 [==============================] - 9s 91us/step - loss: 0.1357 - acc: 0.9466\n",
      "Epoch 70/100\n",
      "104051/104051 [==============================] - 9s 90us/step - loss: 0.1355 - acc: 0.9467\n",
      "Epoch 71/100\n",
      "104051/104051 [==============================] - 9s 88us/step - loss: 0.1352 - acc: 0.9464\n",
      "Epoch 72/100\n",
      "104051/104051 [==============================] - 9s 89us/step - loss: 0.1354 - acc: 0.9464\n",
      "Epoch 73/100\n",
      "104051/104051 [==============================] - 9s 90us/step - loss: 0.1348 - acc: 0.9473\n",
      "Epoch 74/100\n",
      "104051/104051 [==============================] - 9s 89us/step - loss: 0.1350 - acc: 0.9472\n",
      "Epoch 75/100\n",
      "104051/104051 [==============================] - 9s 89us/step - loss: 0.1351 - acc: 0.9464\n",
      "Epoch 76/100\n",
      "104051/104051 [==============================] - 9s 89us/step - loss: 0.1347 - acc: 0.9470\n",
      "Epoch 77/100\n"
     ]
    },
    {
     "name": "stdout",
     "output_type": "stream",
     "text": [
      "104051/104051 [==============================] - 9s 90us/step - loss: 0.1344 - acc: 0.9471\n",
      "Epoch 78/100\n",
      "104051/104051 [==============================] - 9s 89us/step - loss: 0.1343 - acc: 0.9474\n",
      "Epoch 79/100\n",
      "104051/104051 [==============================] - 9s 89us/step - loss: 0.1340 - acc: 0.9472\n",
      "Epoch 80/100\n",
      "104051/104051 [==============================] - 9s 90us/step - loss: 0.1343 - acc: 0.9470\n",
      "Epoch 81/100\n",
      "104051/104051 [==============================] - 9s 89us/step - loss: 0.1342 - acc: 0.9470\n",
      "Epoch 82/100\n",
      "104051/104051 [==============================] - 10s 94us/step - loss: 0.1338 - acc: 0.9471\n",
      "Epoch 83/100\n",
      "104051/104051 [==============================] - 9s 90us/step - loss: 0.1339 - acc: 0.9477\n",
      "Epoch 84/100\n",
      "104051/104051 [==============================] - 9s 89us/step - loss: 0.1334 - acc: 0.9475: \n",
      "Epoch 85/100\n",
      "104051/104051 [==============================] - 9s 89us/step - loss: 0.1330 - acc: 0.9480\n",
      "Epoch 86/100\n",
      "104051/104051 [==============================] - 9s 89us/step - loss: 0.1333 - acc: 0.9476\n",
      "Epoch 87/100\n",
      "104051/104051 [==============================] - 9s 90us/step - loss: 0.1333 - acc: 0.9472: 0s - loss: 0.1334 - acc: 0.947\n",
      "Epoch 88/100\n",
      "104051/104051 [==============================] - 10s 93us/step - loss: 0.1334 - acc: 0.9481\n",
      "Epoch 89/100\n",
      "104051/104051 [==============================] - 10s 101us/step - loss: 0.1332 - acc: 0.9474\n",
      "Epoch 90/100\n",
      "104051/104051 [==============================] - 10s 98us/step - loss: 0.1329 - acc: 0.9476\n",
      "Epoch 91/100\n",
      "104051/104051 [==============================] - 9s 91us/step - loss: 0.1327 - acc: 0.9472\n",
      "Epoch 92/100\n",
      "104051/104051 [==============================] - 9s 90us/step - loss: 0.1329 - acc: 0.9482\n",
      "Epoch 93/100\n",
      "104051/104051 [==============================] - 9s 90us/step - loss: 0.1330 - acc: 0.9482\n",
      "Epoch 94/100\n",
      "104051/104051 [==============================] - 10s 93us/step - loss: 0.1322 - acc: 0.9481\n",
      "Epoch 95/100\n",
      "104051/104051 [==============================] - 10s 97us/step - loss: 0.1326 - acc: 0.9477\n",
      "Epoch 96/100\n",
      "104051/104051 [==============================] - 11s 105us/step - loss: 0.1319 - acc: 0.9480A: 0s - loss: 0.1321 \n",
      "Epoch 97/100\n",
      "104051/104051 [==============================] - 10s 96us/step - loss: 0.1322 - acc: 0.9477\n",
      "Epoch 98/100\n",
      "104051/104051 [==============================] - 9s 91us/step - loss: 0.1323 - acc: 0.9475\n",
      "Epoch 99/100\n",
      "104051/104051 [==============================] - 10s 93us/step - loss: 0.1321 - acc: 0.9481\n",
      "Epoch 100/100\n",
      "104051/104051 [==============================] - 10s 92us/step - loss: 0.1320 - acc: 0.9483\n"
     ]
    },
    {
     "data": {
      "text/plain": [
       "<keras.callbacks.History at 0x1a3d82e2e8>"
      ]
     },
     "execution_count": 21,
     "metadata": {},
     "output_type": "execute_result"
    }
   ],
   "source": [
    "#Fitting the data to the training dataset\n",
    "classifier.fit(X_train,y_train, batch_size=10, epochs=100)"
   ]
  },
  {
   "cell_type": "code",
   "execution_count": 22,
   "metadata": {},
   "outputs": [
    {
     "name": "stdout",
     "output_type": "stream",
     "text": [
      "104051/104051 [==============================] - 1s 11us/step\n"
     ]
    },
    {
     "data": {
      "text/plain": [
       "[0.12995500298622456, 0.948717455860126]"
      ]
     },
     "execution_count": 22,
     "metadata": {},
     "output_type": "execute_result"
    }
   ],
   "source": [
    "eval_model=classifier.evaluate(X_train, y_train)\n",
    "eval_model"
   ]
  },
  {
   "cell_type": "code",
   "execution_count": 23,
   "metadata": {},
   "outputs": [],
   "source": [
    "y_pred=classifier.predict(X_test)\n",
    "y_pred =(y_pred>0.5)"
   ]
  },
  {
   "cell_type": "code",
   "execution_count": 24,
   "metadata": {},
   "outputs": [
    {
     "name": "stdout",
     "output_type": "stream",
     "text": [
      "[[18658     0]\n",
      " [ 7355     0]]\n"
     ]
    }
   ],
   "source": [
    "from sklearn.metrics import confusion_matrix\n",
    "cm = confusion_matrix(y_test, y_pred)\n",
    "print(cm)"
   ]
  },
  {
   "cell_type": "code",
   "execution_count": 25,
   "metadata": {},
   "outputs": [
    {
     "data": {
      "text/plain": [
       "0.717256756237266"
      ]
     },
     "execution_count": 25,
     "metadata": {},
     "output_type": "execute_result"
    }
   ],
   "source": [
    "from sklearn.metrics import accuracy_score\n",
    "\n",
    "accuracy_score(y_test, y_pred)"
   ]
  },
  {
   "cell_type": "markdown",
   "metadata": {},
   "source": [
    "## Grid Search Hyperparameters"
   ]
  },
  {
   "cell_type": "code",
   "execution_count": 30,
   "metadata": {},
   "outputs": [],
   "source": [
    "from src.models import train_model\n",
    "from keras.wrappers.scikit_learn import KerasClassifier\n"
   ]
  },
  {
   "cell_type": "markdown",
   "metadata": {},
   "source": [
    "### Tune Batch Size and Number of Epochs"
   ]
  },
  {
   "cell_type": "code",
   "execution_count": 31,
   "metadata": {},
   "outputs": [
    {
     "data": {
      "text/plain": [
       "<keras.engine.sequential.Sequential at 0x1a447c6f28>"
      ]
     },
     "execution_count": 31,
     "metadata": {},
     "output_type": "execute_result"
    }
   ],
   "source": [
    "#initialize model\n",
    "train_model.create_model_batch_epoch()"
   ]
  },
  {
   "cell_type": "code",
   "execution_count": 33,
   "metadata": {},
   "outputs": [],
   "source": [
    "# create model\n",
    "model = KerasClassifier(build_fn=train_model.create_model, verbose=0)\n",
    "\n",
    "# define the grid search parameters\n",
    "batch_size = [10, 100, 1000]\n",
    "epochs = [10, 50, 100]\n",
    "\n",
    "param_grid = dict(batch_size=batch_size, epochs=epochs)"
   ]
  },
  {
   "cell_type": "code",
   "execution_count": 34,
   "metadata": {},
   "outputs": [
    {
     "name": "stderr",
     "output_type": "stream",
     "text": [
      "/anaconda3/envs/finalprojectML/lib/python3.7/site-packages/sklearn/model_selection/_split.py:2053: FutureWarning: You should specify a value for 'cv' instead of relying on the default value. The default value will change from 3 to 5 in version 0.22.\n",
      "  warnings.warn(CV_WARNING, FutureWarning)\n",
      "/anaconda3/envs/finalprojectML/lib/python3.7/site-packages/sklearn/externals/joblib/externals/loky/process_executor.py:706: UserWarning: A worker stopped while some jobs were given to the executor. This can be caused by a too short worker timeout or by a memory leak.\n",
      "  \"timeout or by a memory leak.\", UserWarning\n"
     ]
    },
    {
     "name": "stdout",
     "output_type": "stream",
     "text": [
      "Best: 0.936973 using {'batch_size': 10, 'epochs': 100}\n",
      "0.929832 (0.001010) with: {'batch_size': 10, 'epochs': 10}\n",
      "0.935282 (0.001335) with: {'batch_size': 10, 'epochs': 50}\n",
      "0.936973 (0.001509) with: {'batch_size': 10, 'epochs': 100}\n",
      "0.924720 (0.001334) with: {'batch_size': 100, 'epochs': 10}\n",
      "0.932427 (0.000978) with: {'batch_size': 100, 'epochs': 50}\n",
      "0.936839 (0.001878) with: {'batch_size': 100, 'epochs': 100}\n",
      "0.896061 (0.002757) with: {'batch_size': 1000, 'epochs': 10}\n",
      "0.927920 (0.000533) with: {'batch_size': 1000, 'epochs': 50}\n",
      "0.931553 (0.001205) with: {'batch_size': 1000, 'epochs': 100}\n"
     ]
    }
   ],
   "source": [
    "train_model.get_best_result(param_grid, model, X_train, y_train)"
   ]
  },
  {
   "cell_type": "markdown",
   "metadata": {},
   "source": [
    "### Tune Learning Rate"
   ]
  },
  {
   "cell_type": "code",
   "execution_count": 35,
   "metadata": {},
   "outputs": [
    {
     "data": {
      "text/plain": [
       "<keras.engine.sequential.Sequential at 0x181ed16a90>"
      ]
     },
     "execution_count": 35,
     "metadata": {},
     "output_type": "execute_result"
    }
   ],
   "source": [
    "#initizalize model\n",
    "train_model.create_model_lrate()"
   ]
  },
  {
   "cell_type": "code",
   "execution_count": 37,
   "metadata": {},
   "outputs": [],
   "source": [
    "model = KerasClassifier(build_fn=train_model.create_model_lrate, epochs=50, batch_size=10, verbose=0)\n",
    "\n",
    "# define the grid search parameters\n",
    "learn_rate = [0.001, 0.2, 0.9]\n",
    "param_grid = dict(learn_rate=learn_rate)"
   ]
  },
  {
   "cell_type": "code",
   "execution_count": 38,
   "metadata": {},
   "outputs": [
    {
     "ename": "KeyboardInterrupt",
     "evalue": "",
     "output_type": "error",
     "traceback": [
      "\u001b[0;31m---------------------------------------------------------------------------\u001b[0m",
      "\u001b[0;31mKeyboardInterrupt\u001b[0m                         Traceback (most recent call last)",
      "\u001b[0;32m<ipython-input-38-d85daf4aca1b>\u001b[0m in \u001b[0;36m<module>\u001b[0;34m\u001b[0m\n\u001b[0;32m----> 1\u001b[0;31m \u001b[0mtrain_model\u001b[0m\u001b[0;34m.\u001b[0m\u001b[0mget_best_result\u001b[0m\u001b[0;34m(\u001b[0m\u001b[0mparam_grid\u001b[0m\u001b[0;34m,\u001b[0m \u001b[0mmodel\u001b[0m\u001b[0;34m,\u001b[0m \u001b[0mX_train\u001b[0m\u001b[0;34m,\u001b[0m \u001b[0my_train\u001b[0m\u001b[0;34m)\u001b[0m\u001b[0;34m\u001b[0m\u001b[0;34m\u001b[0m\u001b[0m\n\u001b[0m",
      "\u001b[0;32m~/machine_learning_proj/src/models/train_model.py\u001b[0m in \u001b[0;36mget_best_result\u001b[0;34m(param_grid, model, X_train, y_train)\u001b[0m\n\u001b[1;32m     29\u001b[0m \u001b[0;32mdef\u001b[0m \u001b[0mget_best_result\u001b[0m\u001b[0;34m(\u001b[0m\u001b[0mparam_grid\u001b[0m\u001b[0;34m,\u001b[0m \u001b[0mmodel\u001b[0m\u001b[0;34m,\u001b[0m \u001b[0mX_train\u001b[0m\u001b[0;34m,\u001b[0m \u001b[0my_train\u001b[0m\u001b[0;34m)\u001b[0m\u001b[0;34m:\u001b[0m\u001b[0;34m\u001b[0m\u001b[0;34m\u001b[0m\u001b[0m\n\u001b[1;32m     30\u001b[0m     \u001b[0mgrid\u001b[0m \u001b[0;34m=\u001b[0m \u001b[0mGridSearchCV\u001b[0m\u001b[0;34m(\u001b[0m\u001b[0mestimator\u001b[0m\u001b[0;34m=\u001b[0m\u001b[0mmodel\u001b[0m\u001b[0;34m,\u001b[0m \u001b[0mparam_grid\u001b[0m\u001b[0;34m=\u001b[0m\u001b[0mparam_grid\u001b[0m\u001b[0;34m,\u001b[0m \u001b[0mn_jobs\u001b[0m\u001b[0;34m=\u001b[0m\u001b[0;34m-\u001b[0m\u001b[0;36m1\u001b[0m\u001b[0;34m)\u001b[0m\u001b[0;34m\u001b[0m\u001b[0;34m\u001b[0m\u001b[0m\n\u001b[0;32m---> 31\u001b[0;31m     \u001b[0mgrid_result\u001b[0m \u001b[0;34m=\u001b[0m \u001b[0mgrid\u001b[0m\u001b[0;34m.\u001b[0m\u001b[0mfit\u001b[0m\u001b[0;34m(\u001b[0m\u001b[0mX_train\u001b[0m\u001b[0;34m,\u001b[0m \u001b[0my_train\u001b[0m\u001b[0;34m)\u001b[0m\u001b[0;34m\u001b[0m\u001b[0;34m\u001b[0m\u001b[0m\n\u001b[0m\u001b[1;32m     32\u001b[0m \u001b[0;34m\u001b[0m\u001b[0m\n\u001b[1;32m     33\u001b[0m     \u001b[0;31m# summarize results\u001b[0m\u001b[0;34m\u001b[0m\u001b[0;34m\u001b[0m\u001b[0;34m\u001b[0m\u001b[0m\n",
      "\u001b[0;32m/anaconda3/envs/finalprojectML/lib/python3.7/site-packages/sklearn/model_selection/_search.py\u001b[0m in \u001b[0;36mfit\u001b[0;34m(self, X, y, groups, **fit_params)\u001b[0m\n\u001b[1;32m    720\u001b[0m                 \u001b[0;32mreturn\u001b[0m \u001b[0mresults_container\u001b[0m\u001b[0;34m[\u001b[0m\u001b[0;36m0\u001b[0m\u001b[0;34m]\u001b[0m\u001b[0;34m\u001b[0m\u001b[0;34m\u001b[0m\u001b[0m\n\u001b[1;32m    721\u001b[0m \u001b[0;34m\u001b[0m\u001b[0m\n\u001b[0;32m--> 722\u001b[0;31m             \u001b[0mself\u001b[0m\u001b[0;34m.\u001b[0m\u001b[0m_run_search\u001b[0m\u001b[0;34m(\u001b[0m\u001b[0mevaluate_candidates\u001b[0m\u001b[0;34m)\u001b[0m\u001b[0;34m\u001b[0m\u001b[0;34m\u001b[0m\u001b[0m\n\u001b[0m\u001b[1;32m    723\u001b[0m \u001b[0;34m\u001b[0m\u001b[0m\n\u001b[1;32m    724\u001b[0m         \u001b[0mresults\u001b[0m \u001b[0;34m=\u001b[0m \u001b[0mresults_container\u001b[0m\u001b[0;34m[\u001b[0m\u001b[0;36m0\u001b[0m\u001b[0;34m]\u001b[0m\u001b[0;34m\u001b[0m\u001b[0;34m\u001b[0m\u001b[0m\n",
      "\u001b[0;32m/anaconda3/envs/finalprojectML/lib/python3.7/site-packages/sklearn/model_selection/_search.py\u001b[0m in \u001b[0;36m_run_search\u001b[0;34m(self, evaluate_candidates)\u001b[0m\n\u001b[1;32m   1189\u001b[0m     \u001b[0;32mdef\u001b[0m \u001b[0m_run_search\u001b[0m\u001b[0;34m(\u001b[0m\u001b[0mself\u001b[0m\u001b[0;34m,\u001b[0m \u001b[0mevaluate_candidates\u001b[0m\u001b[0;34m)\u001b[0m\u001b[0;34m:\u001b[0m\u001b[0;34m\u001b[0m\u001b[0;34m\u001b[0m\u001b[0m\n\u001b[1;32m   1190\u001b[0m         \u001b[0;34m\"\"\"Search all candidates in param_grid\"\"\"\u001b[0m\u001b[0;34m\u001b[0m\u001b[0;34m\u001b[0m\u001b[0m\n\u001b[0;32m-> 1191\u001b[0;31m         \u001b[0mevaluate_candidates\u001b[0m\u001b[0;34m(\u001b[0m\u001b[0mParameterGrid\u001b[0m\u001b[0;34m(\u001b[0m\u001b[0mself\u001b[0m\u001b[0;34m.\u001b[0m\u001b[0mparam_grid\u001b[0m\u001b[0;34m)\u001b[0m\u001b[0;34m)\u001b[0m\u001b[0;34m\u001b[0m\u001b[0;34m\u001b[0m\u001b[0m\n\u001b[0m\u001b[1;32m   1192\u001b[0m \u001b[0;34m\u001b[0m\u001b[0m\n\u001b[1;32m   1193\u001b[0m \u001b[0;34m\u001b[0m\u001b[0m\n",
      "\u001b[0;32m/anaconda3/envs/finalprojectML/lib/python3.7/site-packages/sklearn/model_selection/_search.py\u001b[0m in \u001b[0;36mevaluate_candidates\u001b[0;34m(candidate_params)\u001b[0m\n\u001b[1;32m    709\u001b[0m                                \u001b[0;32mfor\u001b[0m \u001b[0mparameters\u001b[0m\u001b[0;34m,\u001b[0m \u001b[0;34m(\u001b[0m\u001b[0mtrain\u001b[0m\u001b[0;34m,\u001b[0m \u001b[0mtest\u001b[0m\u001b[0;34m)\u001b[0m\u001b[0;34m\u001b[0m\u001b[0;34m\u001b[0m\u001b[0m\n\u001b[1;32m    710\u001b[0m                                in product(candidate_params,\n\u001b[0;32m--> 711\u001b[0;31m                                           cv.split(X, y, groups)))\n\u001b[0m\u001b[1;32m    712\u001b[0m \u001b[0;34m\u001b[0m\u001b[0m\n\u001b[1;32m    713\u001b[0m                 \u001b[0mall_candidate_params\u001b[0m\u001b[0;34m.\u001b[0m\u001b[0mextend\u001b[0m\u001b[0;34m(\u001b[0m\u001b[0mcandidate_params\u001b[0m\u001b[0;34m)\u001b[0m\u001b[0;34m\u001b[0m\u001b[0;34m\u001b[0m\u001b[0m\n",
      "\u001b[0;32m/anaconda3/envs/finalprojectML/lib/python3.7/site-packages/sklearn/externals/joblib/parallel.py\u001b[0m in \u001b[0;36m__call__\u001b[0;34m(self, iterable)\u001b[0m\n\u001b[1;32m    928\u001b[0m \u001b[0;34m\u001b[0m\u001b[0m\n\u001b[1;32m    929\u001b[0m             \u001b[0;32mwith\u001b[0m \u001b[0mself\u001b[0m\u001b[0;34m.\u001b[0m\u001b[0m_backend\u001b[0m\u001b[0;34m.\u001b[0m\u001b[0mretrieval_context\u001b[0m\u001b[0;34m(\u001b[0m\u001b[0;34m)\u001b[0m\u001b[0;34m:\u001b[0m\u001b[0;34m\u001b[0m\u001b[0;34m\u001b[0m\u001b[0m\n\u001b[0;32m--> 930\u001b[0;31m                 \u001b[0mself\u001b[0m\u001b[0;34m.\u001b[0m\u001b[0mretrieve\u001b[0m\u001b[0;34m(\u001b[0m\u001b[0;34m)\u001b[0m\u001b[0;34m\u001b[0m\u001b[0;34m\u001b[0m\u001b[0m\n\u001b[0m\u001b[1;32m    931\u001b[0m             \u001b[0;31m# Make sure that we get a last message telling us we are done\u001b[0m\u001b[0;34m\u001b[0m\u001b[0;34m\u001b[0m\u001b[0;34m\u001b[0m\u001b[0m\n\u001b[1;32m    932\u001b[0m             \u001b[0melapsed_time\u001b[0m \u001b[0;34m=\u001b[0m \u001b[0mtime\u001b[0m\u001b[0;34m.\u001b[0m\u001b[0mtime\u001b[0m\u001b[0;34m(\u001b[0m\u001b[0;34m)\u001b[0m \u001b[0;34m-\u001b[0m \u001b[0mself\u001b[0m\u001b[0;34m.\u001b[0m\u001b[0m_start_time\u001b[0m\u001b[0;34m\u001b[0m\u001b[0;34m\u001b[0m\u001b[0m\n",
      "\u001b[0;32m/anaconda3/envs/finalprojectML/lib/python3.7/site-packages/sklearn/externals/joblib/parallel.py\u001b[0m in \u001b[0;36mretrieve\u001b[0;34m(self)\u001b[0m\n\u001b[1;32m    831\u001b[0m             \u001b[0;32mtry\u001b[0m\u001b[0;34m:\u001b[0m\u001b[0;34m\u001b[0m\u001b[0;34m\u001b[0m\u001b[0m\n\u001b[1;32m    832\u001b[0m                 \u001b[0;32mif\u001b[0m \u001b[0mgetattr\u001b[0m\u001b[0;34m(\u001b[0m\u001b[0mself\u001b[0m\u001b[0;34m.\u001b[0m\u001b[0m_backend\u001b[0m\u001b[0;34m,\u001b[0m \u001b[0;34m'supports_timeout'\u001b[0m\u001b[0;34m,\u001b[0m \u001b[0;32mFalse\u001b[0m\u001b[0;34m)\u001b[0m\u001b[0;34m:\u001b[0m\u001b[0;34m\u001b[0m\u001b[0;34m\u001b[0m\u001b[0m\n\u001b[0;32m--> 833\u001b[0;31m                     \u001b[0mself\u001b[0m\u001b[0;34m.\u001b[0m\u001b[0m_output\u001b[0m\u001b[0;34m.\u001b[0m\u001b[0mextend\u001b[0m\u001b[0;34m(\u001b[0m\u001b[0mjob\u001b[0m\u001b[0;34m.\u001b[0m\u001b[0mget\u001b[0m\u001b[0;34m(\u001b[0m\u001b[0mtimeout\u001b[0m\u001b[0;34m=\u001b[0m\u001b[0mself\u001b[0m\u001b[0;34m.\u001b[0m\u001b[0mtimeout\u001b[0m\u001b[0;34m)\u001b[0m\u001b[0;34m)\u001b[0m\u001b[0;34m\u001b[0m\u001b[0;34m\u001b[0m\u001b[0m\n\u001b[0m\u001b[1;32m    834\u001b[0m                 \u001b[0;32melse\u001b[0m\u001b[0;34m:\u001b[0m\u001b[0;34m\u001b[0m\u001b[0;34m\u001b[0m\u001b[0m\n\u001b[1;32m    835\u001b[0m                     \u001b[0mself\u001b[0m\u001b[0;34m.\u001b[0m\u001b[0m_output\u001b[0m\u001b[0;34m.\u001b[0m\u001b[0mextend\u001b[0m\u001b[0;34m(\u001b[0m\u001b[0mjob\u001b[0m\u001b[0;34m.\u001b[0m\u001b[0mget\u001b[0m\u001b[0;34m(\u001b[0m\u001b[0;34m)\u001b[0m\u001b[0;34m)\u001b[0m\u001b[0;34m\u001b[0m\u001b[0;34m\u001b[0m\u001b[0m\n",
      "\u001b[0;32m/anaconda3/envs/finalprojectML/lib/python3.7/site-packages/sklearn/externals/joblib/_parallel_backends.py\u001b[0m in \u001b[0;36mwrap_future_result\u001b[0;34m(future, timeout)\u001b[0m\n\u001b[1;32m    519\u001b[0m         AsyncResults.get from multiprocessing.\"\"\"\n\u001b[1;32m    520\u001b[0m         \u001b[0;32mtry\u001b[0m\u001b[0;34m:\u001b[0m\u001b[0;34m\u001b[0m\u001b[0;34m\u001b[0m\u001b[0m\n\u001b[0;32m--> 521\u001b[0;31m             \u001b[0;32mreturn\u001b[0m \u001b[0mfuture\u001b[0m\u001b[0;34m.\u001b[0m\u001b[0mresult\u001b[0m\u001b[0;34m(\u001b[0m\u001b[0mtimeout\u001b[0m\u001b[0;34m=\u001b[0m\u001b[0mtimeout\u001b[0m\u001b[0;34m)\u001b[0m\u001b[0;34m\u001b[0m\u001b[0;34m\u001b[0m\u001b[0m\n\u001b[0m\u001b[1;32m    522\u001b[0m         \u001b[0;32mexcept\u001b[0m \u001b[0mLokyTimeoutError\u001b[0m\u001b[0;34m:\u001b[0m\u001b[0;34m\u001b[0m\u001b[0;34m\u001b[0m\u001b[0m\n\u001b[1;32m    523\u001b[0m             \u001b[0;32mraise\u001b[0m \u001b[0mTimeoutError\u001b[0m\u001b[0;34m(\u001b[0m\u001b[0;34m)\u001b[0m\u001b[0;34m\u001b[0m\u001b[0;34m\u001b[0m\u001b[0m\n",
      "\u001b[0;32m/anaconda3/envs/finalprojectML/lib/python3.7/concurrent/futures/_base.py\u001b[0m in \u001b[0;36mresult\u001b[0;34m(self, timeout)\u001b[0m\n\u001b[1;32m    425\u001b[0m                 \u001b[0;32mreturn\u001b[0m \u001b[0mself\u001b[0m\u001b[0;34m.\u001b[0m\u001b[0m__get_result\u001b[0m\u001b[0;34m(\u001b[0m\u001b[0;34m)\u001b[0m\u001b[0;34m\u001b[0m\u001b[0;34m\u001b[0m\u001b[0m\n\u001b[1;32m    426\u001b[0m \u001b[0;34m\u001b[0m\u001b[0m\n\u001b[0;32m--> 427\u001b[0;31m             \u001b[0mself\u001b[0m\u001b[0;34m.\u001b[0m\u001b[0m_condition\u001b[0m\u001b[0;34m.\u001b[0m\u001b[0mwait\u001b[0m\u001b[0;34m(\u001b[0m\u001b[0mtimeout\u001b[0m\u001b[0;34m)\u001b[0m\u001b[0;34m\u001b[0m\u001b[0;34m\u001b[0m\u001b[0m\n\u001b[0m\u001b[1;32m    428\u001b[0m \u001b[0;34m\u001b[0m\u001b[0m\n\u001b[1;32m    429\u001b[0m             \u001b[0;32mif\u001b[0m \u001b[0mself\u001b[0m\u001b[0;34m.\u001b[0m\u001b[0m_state\u001b[0m \u001b[0;32min\u001b[0m \u001b[0;34m[\u001b[0m\u001b[0mCANCELLED\u001b[0m\u001b[0;34m,\u001b[0m \u001b[0mCANCELLED_AND_NOTIFIED\u001b[0m\u001b[0;34m]\u001b[0m\u001b[0;34m:\u001b[0m\u001b[0;34m\u001b[0m\u001b[0;34m\u001b[0m\u001b[0m\n",
      "\u001b[0;32m/anaconda3/envs/finalprojectML/lib/python3.7/threading.py\u001b[0m in \u001b[0;36mwait\u001b[0;34m(self, timeout)\u001b[0m\n\u001b[1;32m    294\u001b[0m         \u001b[0;32mtry\u001b[0m\u001b[0;34m:\u001b[0m    \u001b[0;31m# restore state no matter what (e.g., KeyboardInterrupt)\u001b[0m\u001b[0;34m\u001b[0m\u001b[0;34m\u001b[0m\u001b[0m\n\u001b[1;32m    295\u001b[0m             \u001b[0;32mif\u001b[0m \u001b[0mtimeout\u001b[0m \u001b[0;32mis\u001b[0m \u001b[0;32mNone\u001b[0m\u001b[0;34m:\u001b[0m\u001b[0;34m\u001b[0m\u001b[0;34m\u001b[0m\u001b[0m\n\u001b[0;32m--> 296\u001b[0;31m                 \u001b[0mwaiter\u001b[0m\u001b[0;34m.\u001b[0m\u001b[0macquire\u001b[0m\u001b[0;34m(\u001b[0m\u001b[0;34m)\u001b[0m\u001b[0;34m\u001b[0m\u001b[0;34m\u001b[0m\u001b[0m\n\u001b[0m\u001b[1;32m    297\u001b[0m                 \u001b[0mgotit\u001b[0m \u001b[0;34m=\u001b[0m \u001b[0;32mTrue\u001b[0m\u001b[0;34m\u001b[0m\u001b[0;34m\u001b[0m\u001b[0m\n\u001b[1;32m    298\u001b[0m             \u001b[0;32melse\u001b[0m\u001b[0;34m:\u001b[0m\u001b[0;34m\u001b[0m\u001b[0;34m\u001b[0m\u001b[0m\n",
      "\u001b[0;31mKeyboardInterrupt\u001b[0m: "
     ]
    }
   ],
   "source": [
    "train_model.get_best_result(param_grid, model, X_train, y_train)"
   ]
  },
  {
   "cell_type": "code",
   "execution_count": null,
   "metadata": {},
   "outputs": [],
   "source": []
  }
 ],
 "metadata": {
  "kernelspec": {
   "display_name": "Python 3",
   "language": "python",
   "name": "python3"
  },
  "language_info": {
   "codemirror_mode": {
    "name": "ipython",
    "version": 3
   },
   "file_extension": ".py",
   "mimetype": "text/x-python",
   "name": "python",
   "nbconvert_exporter": "python",
   "pygments_lexer": "ipython3",
   "version": "3.7.3"
  }
 },
 "nbformat": 4,
 "nbformat_minor": 2
}
